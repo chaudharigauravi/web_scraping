{
 "cells": [
  {
   "cell_type": "code",
   "execution_count": 9,
   "metadata": {
    "collapsed": true
   },
   "outputs": [],
   "source": [
    "from __future__ import print_function\n",
    "import urllib3 #  pip install -i https://pypi.anaconda.org/pypi/simple urllib3\n",
    "import unicodedata\n",
    "from bs4 import BeautifulSoup, SoupStrainer, Comment\n",
    "import warnings\n",
    "import requests\n",
    "import datetime\n",
    "\n",
    "\n",
    "#import urllib2\n",
    "#page = urllib2.urlopen(wiki)\n",
    "warnings.filterwarnings('ignore')"
   ]
  },
  {
   "cell_type": "code",
   "execution_count": 10,
   "metadata": {
    "collapsed": true
   },
   "outputs": [],
   "source": [
    "url='http://www.topendsports.com/events/cricket-world-cup/winners.htm'"
   ]
  },
  {
   "cell_type": "code",
   "execution_count": 11,
   "metadata": {},
   "outputs": [
    {
     "data": {
      "text/plain": [
       "200"
      ]
     },
     "execution_count": 11,
     "metadata": {},
     "output_type": "execute_result"
    }
   ],
   "source": [
    "url='http://www.topendsports.com/events/cricket-world-cup/winners.htm'\n",
    "http = urllib3.PoolManager()\n",
    "response = http.request('GET',url)\n",
    "response.status"
   ]
  },
  {
   "cell_type": "code",
   "execution_count": 12,
   "metadata": {
    "collapsed": true
   },
   "outputs": [],
   "source": [
    "page = requests.get('http://www.topendsports.com/events/cricket-world-cup/winners.htm')\n",
    "soup = BeautifulSoup(page.text, 'html.parser')"
   ]
  },
  {
   "cell_type": "code",
   "execution_count": 13,
   "metadata": {},
   "outputs": [
    {
     "name": "stdout",
     "output_type": "stream",
     "text": [
      "<a href=\"hosts/2015-australia-new-zealand/index.htm\">\n",
      " 2015\n",
      "</a>\n",
      "<a href=\"countries/australia.htm\">\n",
      " Australia\n",
      "</a>\n",
      "<a href=\"countries/new-zealand.htm\">\n",
      " New Zealand\n",
      "</a>\n",
      "<a href=\"hosts/2011-asia/index.htm\">\n",
      " 2011\n",
      "</a>\n",
      "<a href=\"countries/india.htm\">\n",
      " India\n",
      "</a>\n",
      "<a href=\"countries/sri-lanka.htm\">\n",
      " Sri Lanka\n",
      "</a>\n",
      "<a href=\"hosts/2007-west-indies/index.htm\">\n",
      " 2007\n",
      "</a>\n",
      "<a href=\"countries/australia.htm\">\n",
      " Australia\n",
      "</a>\n",
      "<a href=\"countries/sri-lanka.htm\">\n",
      " Sri Lanka\n",
      "</a>\n",
      "<a href=\"hosts/2003-southern-africa/index.htm\">\n",
      " 2003\n",
      "</a>\n",
      "<a href=\"countries/australia.htm\">\n",
      " Australia\n",
      "</a>\n",
      "<a href=\"countries/india.htm\">\n",
      " India\n",
      "</a>\n",
      "<a href=\"hosts/1999-england/index.htm\">\n",
      " 1999\n",
      "</a>\n",
      "<a href=\"countries/australia.htm\">\n",
      " Australia\n",
      "</a>\n",
      "<a href=\"countries/pakistan.htm\">\n",
      " Pakistan\n",
      "</a>\n",
      "<a href=\"hosts/1996-india-paki-srilanka/index.htm\">\n",
      " 1996\n",
      "</a>\n",
      "<a href=\"countries/sri-lanka.htm\">\n",
      " Sri Lanka\n",
      "</a>\n",
      "<a href=\"countries/australia.htm\">\n",
      " Australia\n",
      "</a>\n",
      "<a href=\"hosts/1992-australia-nz/index.htm\">\n",
      " 1992\n",
      "</a>\n",
      "<a href=\"countries/pakistan.htm\">\n",
      " Pakistan\n",
      "</a>\n",
      "<a href=\"countries/england.htm\">\n",
      " England\n",
      "</a>\n",
      "<a href=\"hosts/1987-india-pakistan/index.htm\">\n",
      " 1987\n",
      "</a>\n",
      "<a href=\"countries/australia.htm\">\n",
      " Australia\n",
      "</a>\n",
      "<a href=\"countries/england.htm\">\n",
      " England\n",
      "</a>\n",
      "<a href=\"hosts/1983-england/index.htm\">\n",
      " 1983\n",
      "</a>\n",
      "<a href=\"countries/india.htm\">\n",
      " India\n",
      "</a>\n",
      "<a href=\"countries/west-indies.htm\">\n",
      " West Indies\n",
      "</a>\n",
      "<a href=\"hosts/1979-england/index.htm\">\n",
      " 1979\n",
      "</a>\n",
      "<a href=\"countries/west-indies.htm\">\n",
      " West Indies\n",
      "</a>\n",
      "<a href=\"countries/england.htm\">\n",
      " England\n",
      "</a>\n",
      "<a href=\"hosts/1975-england/index.htm\">\n",
      " 1975\n",
      "</a>\n",
      "<a href=\"countries/west-indies.htm\">\n",
      " West Indies\n",
      "</a>\n",
      "<a href=\"countries/australia.htm\">\n",
      " Australia\n",
      "</a>\n"
     ]
    }
   ],
   "source": [
    "social_name_list = soup.find(class_='list')\n",
    "social_name_list_items = social_name_list.find_all('a')\n",
    "for social_name in social_name_list_items:\n",
    "    print(social_name.prettify())"
   ]
  },
  {
   "cell_type": "code",
   "execution_count": 14,
   "metadata": {},
   "outputs": [
    {
     "name": "stdout",
     "output_type": "stream",
     "text": [
      "http://www.topendsports.com/events/cricket-world-cup/winners.htmhosts/2015-australia-new-zealand/index.htm\n",
      "2015\n",
      "http://www.topendsports.com/events/cricket-world-cup/winners.htmcountries/australia.htm\n",
      "Australia\n",
      "http://www.topendsports.com/events/cricket-world-cup/winners.htmcountries/new-zealand.htm\n",
      "New Zealand\n",
      "http://www.topendsports.com/events/cricket-world-cup/winners.htmhosts/2011-asia/index.htm\n",
      "2011\n",
      "http://www.topendsports.com/events/cricket-world-cup/winners.htmcountries/india.htm\n",
      "India\n",
      "http://www.topendsports.com/events/cricket-world-cup/winners.htmcountries/sri-lanka.htm\n",
      "Sri Lanka\n",
      "http://www.topendsports.com/events/cricket-world-cup/winners.htmhosts/2007-west-indies/index.htm\n",
      "2007\n",
      "http://www.topendsports.com/events/cricket-world-cup/winners.htmcountries/australia.htm\n",
      "Australia\n",
      "http://www.topendsports.com/events/cricket-world-cup/winners.htmcountries/sri-lanka.htm\n",
      "Sri Lanka\n",
      "http://www.topendsports.com/events/cricket-world-cup/winners.htmhosts/2003-southern-africa/index.htm\n",
      "2003\n",
      "http://www.topendsports.com/events/cricket-world-cup/winners.htmcountries/australia.htm\n",
      "Australia\n",
      "http://www.topendsports.com/events/cricket-world-cup/winners.htmcountries/india.htm\n",
      "India\n",
      "http://www.topendsports.com/events/cricket-world-cup/winners.htmhosts/1999-england/index.htm\n",
      "1999\n",
      "http://www.topendsports.com/events/cricket-world-cup/winners.htmcountries/australia.htm\n",
      "Australia\n",
      "http://www.topendsports.com/events/cricket-world-cup/winners.htmcountries/pakistan.htm\n",
      "Pakistan\n",
      "http://www.topendsports.com/events/cricket-world-cup/winners.htmhosts/1996-india-paki-srilanka/index.htm\n",
      "1996\n",
      "http://www.topendsports.com/events/cricket-world-cup/winners.htmcountries/sri-lanka.htm\n",
      "Sri Lanka\n",
      "http://www.topendsports.com/events/cricket-world-cup/winners.htmcountries/australia.htm\n",
      "Australia\n",
      "http://www.topendsports.com/events/cricket-world-cup/winners.htmhosts/1992-australia-nz/index.htm\n",
      "1992\n",
      "http://www.topendsports.com/events/cricket-world-cup/winners.htmcountries/pakistan.htm\n",
      "Pakistan\n",
      "http://www.topendsports.com/events/cricket-world-cup/winners.htmcountries/england.htm\n",
      "England\n",
      "http://www.topendsports.com/events/cricket-world-cup/winners.htmhosts/1987-india-pakistan/index.htm\n",
      "1987\n",
      "http://www.topendsports.com/events/cricket-world-cup/winners.htmcountries/australia.htm\n",
      "Australia\n",
      "http://www.topendsports.com/events/cricket-world-cup/winners.htmcountries/england.htm\n",
      "England\n",
      "http://www.topendsports.com/events/cricket-world-cup/winners.htmhosts/1983-england/index.htm\n",
      "1983\n",
      "http://www.topendsports.com/events/cricket-world-cup/winners.htmcountries/india.htm\n",
      "India\n",
      "http://www.topendsports.com/events/cricket-world-cup/winners.htmcountries/west-indies.htm\n",
      "West Indies\n",
      "http://www.topendsports.com/events/cricket-world-cup/winners.htmhosts/1979-england/index.htm\n",
      "1979\n",
      "http://www.topendsports.com/events/cricket-world-cup/winners.htmcountries/west-indies.htm\n",
      "West Indies\n",
      "http://www.topendsports.com/events/cricket-world-cup/winners.htmcountries/england.htm\n",
      "England\n",
      "http://www.topendsports.com/events/cricket-world-cup/winners.htmhosts/1975-england/index.htm\n",
      "1975\n",
      "http://www.topendsports.com/events/cricket-world-cup/winners.htmcountries/west-indies.htm\n",
      "West Indies\n",
      "http://www.topendsports.com/events/cricket-world-cup/winners.htmcountries/australia.htm\n",
      "Australia\n"
     ]
    }
   ],
   "source": [
    "for social_name in social_name_list_items:\n",
    "    \n",
    "    links = 'http://www.topendsports.com/events/cricket-world-cup/winners.htm' + social_name.get('href')\n",
    "    names = social_name.text\n",
    "    print(links)\n",
    "    print(names)"
   ]
  },
  {
   "cell_type": "code",
   "execution_count": 15,
   "metadata": {
    "collapsed": true
   },
   "outputs": [],
   "source": [
    "def get_status_code(link):\n",
    "    \n",
    "    \n",
    "        code = requests.get(links).status_code\n",
    "        print(code)\n",
    "        if (code == 200):\n",
    "            valid='True'\n",
    "            return (valid)"
   ]
  },
  {
   "cell_type": "code",
   "execution_count": 16,
   "metadata": {},
   "outputs": [
    {
     "name": "stdout",
     "output_type": "stream",
     "text": [
      "<a href=\"countries/australia.htm\">\n",
      " Australia\n",
      "</a>\n"
     ]
    }
   ],
   "source": [
    "print(social_name.prettify())"
   ]
  },
  {
   "cell_type": "code",
   "execution_count": 10,
   "metadata": {
    "collapsed": true
   },
   "outputs": [],
   "source": [
    "social_name.title"
   ]
  },
  {
   "cell_type": "code",
   "execution_count": 11,
   "metadata": {
    "collapsed": true
   },
   "outputs": [],
   "source": [
    "social_name.a"
   ]
  },
  {
   "cell_type": "code",
   "execution_count": 17,
   "metadata": {
    "collapsed": true
   },
   "outputs": [],
   "source": [
    "import datetime"
   ]
  },
  {
   "cell_type": "code",
   "execution_count": 20,
   "metadata": {},
   "outputs": [
    {
     "name": "stdout",
     "output_type": "stream",
     "text": [
      "http://www.topendsports.com/events/cricket-world-cup/hosts/2015-australia-new-zealand/index.htm\n",
      "2015\n",
      "200\n",
      "01/26/2018 23:51:13\n",
      "http://www.topendsports.com/events/cricket-world-cup/countries/australia.htm\n",
      "Australia\n",
      "200\n",
      "01/26/2018 23:51:13\n",
      "http://www.topendsports.com/events/cricket-world-cup/countries/new-zealand.htm\n",
      "New Zealand\n",
      "200\n",
      "01/26/2018 23:51:13\n",
      "http://www.topendsports.com/events/cricket-world-cup/hosts/2011-asia/index.htm\n",
      "2011\n",
      "200\n",
      "01/26/2018 23:51:13\n",
      "http://www.topendsports.com/events/cricket-world-cup/countries/india.htm\n",
      "India\n",
      "200\n",
      "01/26/2018 23:51:14\n",
      "http://www.topendsports.com/events/cricket-world-cup/countries/sri-lanka.htm\n",
      "Sri Lanka\n",
      "200\n",
      "01/26/2018 23:51:14\n",
      "http://www.topendsports.com/events/cricket-world-cup/hosts/2007-west-indies/index.htm\n",
      "2007\n",
      "200\n",
      "01/26/2018 23:51:14\n",
      "http://www.topendsports.com/events/cricket-world-cup/countries/australia.htm\n",
      "Australia\n",
      "200\n",
      "01/26/2018 23:51:14\n",
      "http://www.topendsports.com/events/cricket-world-cup/countries/sri-lanka.htm\n",
      "Sri Lanka\n",
      "200\n",
      "01/26/2018 23:51:14\n",
      "http://www.topendsports.com/events/cricket-world-cup/hosts/2003-southern-africa/index.htm\n",
      "2003\n",
      "200\n",
      "01/26/2018 23:51:14\n",
      "http://www.topendsports.com/events/cricket-world-cup/countries/australia.htm\n",
      "Australia\n",
      "200\n",
      "01/26/2018 23:51:14\n",
      "http://www.topendsports.com/events/cricket-world-cup/countries/india.htm\n",
      "India\n",
      "200\n",
      "01/26/2018 23:51:15\n",
      "http://www.topendsports.com/events/cricket-world-cup/hosts/1999-england/index.htm\n",
      "1999\n",
      "200\n",
      "01/26/2018 23:51:15\n",
      "http://www.topendsports.com/events/cricket-world-cup/countries/australia.htm\n",
      "Australia\n",
      "200\n",
      "01/26/2018 23:51:15\n",
      "http://www.topendsports.com/events/cricket-world-cup/countries/pakistan.htm\n",
      "Pakistan\n",
      "200\n",
      "01/26/2018 23:51:15\n",
      "http://www.topendsports.com/events/cricket-world-cup/hosts/1996-india-paki-srilanka/index.htm\n",
      "1996\n",
      "200\n",
      "01/26/2018 23:51:15\n",
      "http://www.topendsports.com/events/cricket-world-cup/countries/sri-lanka.htm\n",
      "Sri Lanka\n",
      "200\n",
      "01/26/2018 23:51:15\n",
      "http://www.topendsports.com/events/cricket-world-cup/countries/australia.htm\n",
      "Australia\n",
      "200\n",
      "01/26/2018 23:51:15\n",
      "http://www.topendsports.com/events/cricket-world-cup/hosts/1992-australia-nz/index.htm\n",
      "1992\n",
      "200\n",
      "01/26/2018 23:51:15\n",
      "http://www.topendsports.com/events/cricket-world-cup/countries/pakistan.htm\n",
      "Pakistan\n",
      "200\n",
      "01/26/2018 23:51:15\n",
      "http://www.topendsports.com/events/cricket-world-cup/countries/england.htm\n",
      "England\n",
      "200\n",
      "01/26/2018 23:51:15\n",
      "http://www.topendsports.com/events/cricket-world-cup/hosts/1987-india-pakistan/index.htm\n",
      "1987\n",
      "200\n",
      "01/26/2018 23:51:16\n",
      "http://www.topendsports.com/events/cricket-world-cup/countries/australia.htm\n",
      "Australia\n",
      "200\n",
      "01/26/2018 23:51:16\n",
      "http://www.topendsports.com/events/cricket-world-cup/countries/england.htm\n",
      "England\n",
      "200\n",
      "01/26/2018 23:51:16\n",
      "http://www.topendsports.com/events/cricket-world-cup/hosts/1983-england/index.htm\n",
      "1983\n",
      "200\n",
      "01/26/2018 23:51:16\n",
      "http://www.topendsports.com/events/cricket-world-cup/countries/india.htm\n",
      "India\n",
      "200\n",
      "01/26/2018 23:51:16\n",
      "http://www.topendsports.com/events/cricket-world-cup/countries/west-indies.htm\n",
      "West Indies\n",
      "200\n",
      "01/26/2018 23:51:16\n",
      "http://www.topendsports.com/events/cricket-world-cup/hosts/1979-england/index.htm\n",
      "1979\n",
      "200\n",
      "01/26/2018 23:51:17\n",
      "http://www.topendsports.com/events/cricket-world-cup/countries/west-indies.htm\n",
      "West Indies\n",
      "200\n",
      "01/26/2018 23:51:17\n",
      "http://www.topendsports.com/events/cricket-world-cup/countries/england.htm\n",
      "England\n",
      "200\n",
      "01/26/2018 23:51:17\n",
      "http://www.topendsports.com/events/cricket-world-cup/hosts/1975-england/index.htm\n",
      "1975\n",
      "200\n",
      "01/26/2018 23:51:17\n",
      "http://www.topendsports.com/events/cricket-world-cup/countries/west-indies.htm\n",
      "West Indies\n",
      "200\n",
      "01/26/2018 23:51:17\n",
      "http://www.topendsports.com/events/cricket-world-cup/countries/australia.htm\n",
      "Australia\n",
      "200\n",
      "01/26/2018 23:51:17\n",
      "Excel formed\n"
     ]
    }
   ],
   "source": [
    "import xlwt\n",
    "from tempfile import TemporaryFile\n",
    "book = xlwt.Workbook()\n",
    "sheet1 = book.add_sheet('sheet1')\n",
    "sheet1.write(0,0,'External Links(URLs)')\n",
    "sheet1.write(0,1,'Textual Description')\n",
    "sheet1.write(0,2,'Validity')\n",
    "sheet1.write(0,3,'Timestamp')\n",
    "i=1\n",
    "for social_name in social_name_list_items:\n",
    "    links = 'http://www.topendsports.com/events/cricket-world-cup/' + social_name.get('href')\n",
    "    print(links)\n",
    "    sheet1.write(i,0,links)\n",
    "    names = social_name.text\n",
    "    print(names)\n",
    "    sheet1.write(i,1,names)\n",
    "    isvalid = get_status_code(links)\n",
    "    sheet1.write(i,2,isvalid)\n",
    "    t= datetime.now()\n",
    "    q=t.strftime('%m/%d/%Y %H:%M:%S')\n",
    "    print(q)\n",
    "    sheet1.write(i,3,q)\n",
    "    i+=1\n",
    "    \n",
    "filename = \"Scrapping5.xls\"\n",
    "book.save(filename)\n",
    "book.save(TemporaryFile())  \n",
    "print('Excel formed')"
   ]
  },
  {
   "cell_type": "code",
   "execution_count": 19,
   "metadata": {
    "collapsed": true
   },
   "outputs": [],
   "source": [
    "from datetime import datetime"
   ]
  },
  {
   "cell_type": "code",
   "execution_count": null,
   "metadata": {
    "collapsed": true
   },
   "outputs": [],
   "source": []
  },
  {
   "cell_type": "code",
   "execution_count": null,
   "metadata": {
    "collapsed": true
   },
   "outputs": [],
   "source": []
  },
  {
   "cell_type": "code",
   "execution_count": null,
   "metadata": {
    "collapsed": true
   },
   "outputs": [],
   "source": []
  },
  {
   "cell_type": "code",
   "execution_count": null,
   "metadata": {
    "collapsed": true
   },
   "outputs": [],
   "source": []
  }
 ],
 "metadata": {
  "kernelspec": {
   "display_name": "Python 3",
   "language": "python",
   "name": "python3"
  },
  "language_info": {
   "codemirror_mode": {
    "name": "ipython",
    "version": 3
   },
   "file_extension": ".py",
   "mimetype": "text/x-python",
   "name": "python",
   "nbconvert_exporter": "python",
   "pygments_lexer": "ipython3",
   "version": "3.6.3"
  }
 },
 "nbformat": 4,
 "nbformat_minor": 2
}
